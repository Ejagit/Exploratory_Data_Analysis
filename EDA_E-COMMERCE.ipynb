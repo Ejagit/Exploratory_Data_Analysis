{
 "cells": [
  {
   "cell_type": "code",
   "execution_count": 1,
   "id": "b588392e",
   "metadata": {},
   "outputs": [],
   "source": [
    "import pandas as pd\n",
    "import matplotlib.pyplot as plt\n",
    "import seaborn as sns"
   ]
  },
  {
   "cell_type": "code",
   "execution_count": 3,
   "id": "95d49d30",
   "metadata": {},
   "outputs": [],
   "source": [
    "ecommerce = pd.read_csv('ecommerce.csv')"
   ]
  },
  {
   "cell_type": "code",
   "execution_count": 4,
   "id": "c09e2a58",
   "metadata": {},
   "outputs": [
    {
     "data": {
      "text/html": [
       "<div>\n",
       "<style scoped>\n",
       "    .dataframe tbody tr th:only-of-type {\n",
       "        vertical-align: middle;\n",
       "    }\n",
       "\n",
       "    .dataframe tbody tr th {\n",
       "        vertical-align: top;\n",
       "    }\n",
       "\n",
       "    .dataframe thead th {\n",
       "        text-align: right;\n",
       "    }\n",
       "</style>\n",
       "<table border=\"1\" class=\"dataframe\">\n",
       "  <thead>\n",
       "    <tr style=\"text-align: right;\">\n",
       "      <th></th>\n",
       "      <th>InvoiceNo</th>\n",
       "      <th>StockCode</th>\n",
       "      <th>Description</th>\n",
       "      <th>Quantity</th>\n",
       "      <th>InvoiceDate</th>\n",
       "      <th>UnitPrice</th>\n",
       "      <th>CustomerID</th>\n",
       "      <th>Country</th>\n",
       "    </tr>\n",
       "  </thead>\n",
       "  <tbody>\n",
       "    <tr>\n",
       "      <th>0</th>\n",
       "      <td>554697</td>\n",
       "      <td>21166</td>\n",
       "      <td>COOK WITH WINE METAL SIGN</td>\n",
       "      <td>1</td>\n",
       "      <td>5/25/2011 17:31</td>\n",
       "      <td>2.08</td>\n",
       "      <td>14584</td>\n",
       "      <td>United Kingdom</td>\n",
       "    </tr>\n",
       "    <tr>\n",
       "      <th>1</th>\n",
       "      <td>561038</td>\n",
       "      <td>82482</td>\n",
       "      <td>WOODEN PICTURE FRAME WHITE FINISH</td>\n",
       "      <td>2</td>\n",
       "      <td>7/24/2011 11:58</td>\n",
       "      <td>2.55</td>\n",
       "      <td>17114</td>\n",
       "      <td>United Kingdom</td>\n",
       "    </tr>\n",
       "    <tr>\n",
       "      <th>2</th>\n",
       "      <td>560552</td>\n",
       "      <td>23192</td>\n",
       "      <td>BUNDLE OF 3 ALPHABET EXERCISE BOOKS</td>\n",
       "      <td>1</td>\n",
       "      <td>7/19/2011 12:54</td>\n",
       "      <td>1.65</td>\n",
       "      <td>15311</td>\n",
       "      <td>United Kingdom</td>\n",
       "    </tr>\n",
       "    <tr>\n",
       "      <th>3</th>\n",
       "      <td>559884</td>\n",
       "      <td>85183B</td>\n",
       "      <td>CHARLIE &amp; LOLA WASTEPAPER BIN FLORA</td>\n",
       "      <td>12</td>\n",
       "      <td>7/13/2011 11:34</td>\n",
       "      <td>1.25</td>\n",
       "      <td>16843</td>\n",
       "      <td>United Kingdom</td>\n",
       "    </tr>\n",
       "    <tr>\n",
       "      <th>4</th>\n",
       "      <td>544450</td>\n",
       "      <td>21789</td>\n",
       "      <td>KIDS RAIN MAC PINK</td>\n",
       "      <td>3</td>\n",
       "      <td>2/20/2011 12:23</td>\n",
       "      <td>0.85</td>\n",
       "      <td>17811</td>\n",
       "      <td>United Kingdom</td>\n",
       "    </tr>\n",
       "  </tbody>\n",
       "</table>\n",
       "</div>"
      ],
      "text/plain": [
       "   InvoiceNo StockCode                          Description  Quantity  \\\n",
       "0     554697     21166           COOK WITH WINE METAL SIGN          1   \n",
       "1     561038     82482    WOODEN PICTURE FRAME WHITE FINISH         2   \n",
       "2     560552     23192  BUNDLE OF 3 ALPHABET EXERCISE BOOKS         1   \n",
       "3     559884    85183B  CHARLIE & LOLA WASTEPAPER BIN FLORA        12   \n",
       "4     544450     21789                   KIDS RAIN MAC PINK         3   \n",
       "\n",
       "       InvoiceDate  UnitPrice  CustomerID         Country  \n",
       "0  5/25/2011 17:31       2.08       14584  United Kingdom  \n",
       "1  7/24/2011 11:58       2.55       17114  United Kingdom  \n",
       "2  7/19/2011 12:54       1.65       15311  United Kingdom  \n",
       "3  7/13/2011 11:34       1.25       16843  United Kingdom  \n",
       "4  2/20/2011 12:23       0.85       17811  United Kingdom  "
      ]
     },
     "execution_count": 4,
     "metadata": {},
     "output_type": "execute_result"
    }
   ],
   "source": [
    "# top 5 rows\n",
    "ecommerce.head()"
   ]
  },
  {
   "cell_type": "code",
   "execution_count": 5,
   "id": "43e2a5eb",
   "metadata": {},
   "outputs": [
    {
     "name": "stdout",
     "output_type": "stream",
     "text": [
      "<class 'pandas.core.frame.DataFrame'>\n",
      "RangeIndex: 4870 entries, 0 to 4869\n",
      "Data columns (total 8 columns):\n",
      " #   Column       Non-Null Count  Dtype  \n",
      "---  ------       --------------  -----  \n",
      " 0   InvoiceNo    4870 non-null   int64  \n",
      " 1   StockCode    4870 non-null   object \n",
      " 2   Description  4870 non-null   object \n",
      " 3   Quantity     4870 non-null   int64  \n",
      " 4   InvoiceDate  4870 non-null   object \n",
      " 5   UnitPrice    4870 non-null   float64\n",
      " 6   CustomerID   4870 non-null   int64  \n",
      " 7   Country      4870 non-null   object \n",
      "dtypes: float64(1), int64(3), object(4)\n",
      "memory usage: 304.5+ KB\n"
     ]
    }
   ],
   "source": [
    "# general info\n",
    "ecommerce.info()"
   ]
  },
  {
   "cell_type": "markdown",
   "id": "1239d34b",
   "metadata": {},
   "source": [
    "Observation:\n",
    "1. No missing values!\n",
    "2. Seems need to convert `InvoiceDate` to datetime format"
   ]
  },
  {
   "cell_type": "code",
   "execution_count": 6,
   "id": "b1a81b50",
   "metadata": {},
   "outputs": [
    {
     "data": {
      "text/plain": [
       "0"
      ]
     },
     "execution_count": 6,
     "metadata": {},
     "output_type": "execute_result"
    }
   ],
   "source": [
    "# check for duplicates\n",
    "ecommerce.duplicated().sum()"
   ]
  },
  {
   "cell_type": "markdown",
   "id": "f5f30c4b",
   "metadata": {},
   "source": [
    "No duplicates! Good!"
   ]
  },
  {
   "cell_type": "code",
   "execution_count": 8,
   "id": "85fb67f8",
   "metadata": {},
   "outputs": [
    {
     "data": {
      "text/html": [
       "<div>\n",
       "<style scoped>\n",
       "    .dataframe tbody tr th:only-of-type {\n",
       "        vertical-align: middle;\n",
       "    }\n",
       "\n",
       "    .dataframe tbody tr th {\n",
       "        vertical-align: top;\n",
       "    }\n",
       "\n",
       "    .dataframe thead th {\n",
       "        text-align: right;\n",
       "    }\n",
       "</style>\n",
       "<table border=\"1\" class=\"dataframe\">\n",
       "  <thead>\n",
       "    <tr style=\"text-align: right;\">\n",
       "      <th></th>\n",
       "      <th>InvoiceNo</th>\n",
       "      <th>StockCode</th>\n",
       "      <th>Description</th>\n",
       "      <th>Quantity</th>\n",
       "      <th>InvoiceDate</th>\n",
       "      <th>UnitPrice</th>\n",
       "      <th>CustomerID</th>\n",
       "      <th>Country</th>\n",
       "    </tr>\n",
       "  </thead>\n",
       "  <tbody>\n",
       "    <tr>\n",
       "      <th>0</th>\n",
       "      <td>554697</td>\n",
       "      <td>21166</td>\n",
       "      <td>COOK WITH WINE METAL SIGN</td>\n",
       "      <td>1</td>\n",
       "      <td>2011-05-25 17:31:00</td>\n",
       "      <td>2.08</td>\n",
       "      <td>14584</td>\n",
       "      <td>United Kingdom</td>\n",
       "    </tr>\n",
       "    <tr>\n",
       "      <th>1</th>\n",
       "      <td>561038</td>\n",
       "      <td>82482</td>\n",
       "      <td>WOODEN PICTURE FRAME WHITE FINISH</td>\n",
       "      <td>2</td>\n",
       "      <td>2011-07-24 11:58:00</td>\n",
       "      <td>2.55</td>\n",
       "      <td>17114</td>\n",
       "      <td>United Kingdom</td>\n",
       "    </tr>\n",
       "    <tr>\n",
       "      <th>2</th>\n",
       "      <td>560552</td>\n",
       "      <td>23192</td>\n",
       "      <td>BUNDLE OF 3 ALPHABET EXERCISE BOOKS</td>\n",
       "      <td>1</td>\n",
       "      <td>2011-07-19 12:54:00</td>\n",
       "      <td>1.65</td>\n",
       "      <td>15311</td>\n",
       "      <td>United Kingdom</td>\n",
       "    </tr>\n",
       "    <tr>\n",
       "      <th>3</th>\n",
       "      <td>559884</td>\n",
       "      <td>85183B</td>\n",
       "      <td>CHARLIE &amp; LOLA WASTEPAPER BIN FLORA</td>\n",
       "      <td>12</td>\n",
       "      <td>2011-07-13 11:34:00</td>\n",
       "      <td>1.25</td>\n",
       "      <td>16843</td>\n",
       "      <td>United Kingdom</td>\n",
       "    </tr>\n",
       "    <tr>\n",
       "      <th>4</th>\n",
       "      <td>544450</td>\n",
       "      <td>21789</td>\n",
       "      <td>KIDS RAIN MAC PINK</td>\n",
       "      <td>3</td>\n",
       "      <td>2011-02-20 12:23:00</td>\n",
       "      <td>0.85</td>\n",
       "      <td>17811</td>\n",
       "      <td>United Kingdom</td>\n",
       "    </tr>\n",
       "  </tbody>\n",
       "</table>\n",
       "</div>"
      ],
      "text/plain": [
       "   InvoiceNo StockCode                          Description  Quantity  \\\n",
       "0     554697     21166           COOK WITH WINE METAL SIGN          1   \n",
       "1     561038     82482    WOODEN PICTURE FRAME WHITE FINISH         2   \n",
       "2     560552     23192  BUNDLE OF 3 ALPHABET EXERCISE BOOKS         1   \n",
       "3     559884    85183B  CHARLIE & LOLA WASTEPAPER BIN FLORA        12   \n",
       "4     544450     21789                   KIDS RAIN MAC PINK         3   \n",
       "\n",
       "          InvoiceDate  UnitPrice  CustomerID         Country  \n",
       "0 2011-05-25 17:31:00       2.08       14584  United Kingdom  \n",
       "1 2011-07-24 11:58:00       2.55       17114  United Kingdom  \n",
       "2 2011-07-19 12:54:00       1.65       15311  United Kingdom  \n",
       "3 2011-07-13 11:34:00       1.25       16843  United Kingdom  \n",
       "4 2011-02-20 12:23:00       0.85       17811  United Kingdom  "
      ]
     },
     "execution_count": 8,
     "metadata": {},
     "output_type": "execute_result"
    }
   ],
   "source": [
    "# convert InvoiceDate to datetime format\n",
    "ecommerce['InvoiceDate'] = pd.to_datetime(ecommerce['InvoiceDate'])\n",
    "ecommerce.head()"
   ]
  },
  {
   "cell_type": "code",
   "execution_count": 9,
   "id": "c06e4e19",
   "metadata": {},
   "outputs": [
    {
     "name": "stdout",
     "output_type": "stream",
     "text": [
      "<class 'pandas.core.frame.DataFrame'>\n",
      "RangeIndex: 4870 entries, 0 to 4869\n",
      "Data columns (total 8 columns):\n",
      " #   Column       Non-Null Count  Dtype         \n",
      "---  ------       --------------  -----         \n",
      " 0   InvoiceNo    4870 non-null   int64         \n",
      " 1   StockCode    4870 non-null   object        \n",
      " 2   Description  4870 non-null   object        \n",
      " 3   Quantity     4870 non-null   int64         \n",
      " 4   InvoiceDate  4870 non-null   datetime64[ns]\n",
      " 5   UnitPrice    4870 non-null   float64       \n",
      " 6   CustomerID   4870 non-null   int64         \n",
      " 7   Country      4870 non-null   object        \n",
      "dtypes: datetime64[ns](1), float64(1), int64(3), object(3)\n",
      "memory usage: 304.5+ KB\n"
     ]
    }
   ],
   "source": [
    "# check info again\n",
    "ecommerce.info()"
   ]
  },
  {
   "cell_type": "markdown",
   "id": "819ed3a4",
   "metadata": {},
   "source": [
    "## EDA Questions\n",
    "1. What are Top 10 products with the most transactions?\n",
    "2. What are Top 10 products with the LEAST transactions?\n",
    "3. Who are Top 10 Customers with the most money spend?\n",
    "4. How many distinct products sold? How is their price distribution?\n",
    "5. From what countries the customers come? Which country has the most royal customers?\n",
    "6. How is monthly count buyers profile (time series)?\n",
    "7. How is monthly omzet profile (time series)?"
   ]
  },
  {
   "cell_type": "markdown",
   "id": "be39ff70",
   "metadata": {},
   "source": [
    "### Top 10 products with most/least transactions\n",
    "We need to perform group by aggregation. Basis group-by is `Description`, while number of transactions = count `InvoiceNo`. After aggregating, do appropriate sorting and truncation."
   ]
  },
  {
   "cell_type": "code",
   "execution_count": 10,
   "id": "3bd54016",
   "metadata": {},
   "outputs": [
    {
     "data": {
      "text/html": [
       "<div>\n",
       "<style scoped>\n",
       "    .dataframe tbody tr th:only-of-type {\n",
       "        vertical-align: middle;\n",
       "    }\n",
       "\n",
       "    .dataframe tbody tr th {\n",
       "        vertical-align: top;\n",
       "    }\n",
       "\n",
       "    .dataframe thead th {\n",
       "        text-align: right;\n",
       "    }\n",
       "</style>\n",
       "<table border=\"1\" class=\"dataframe\">\n",
       "  <thead>\n",
       "    <tr style=\"text-align: right;\">\n",
       "      <th></th>\n",
       "      <th>Description</th>\n",
       "      <th>num_trx</th>\n",
       "    </tr>\n",
       "  </thead>\n",
       "  <tbody>\n",
       "    <tr>\n",
       "      <th>793</th>\n",
       "      <td>JUMBO BAG RED RETROSPOT</td>\n",
       "      <td>24</td>\n",
       "    </tr>\n",
       "    <tr>\n",
       "      <th>1060</th>\n",
       "      <td>PARTY BUNTING</td>\n",
       "      <td>22</td>\n",
       "    </tr>\n",
       "    <tr>\n",
       "      <th>1238</th>\n",
       "      <td>REGENCY CAKESTAND 3 TIER</td>\n",
       "      <td>21</td>\n",
       "    </tr>\n",
       "    <tr>\n",
       "      <th>1724</th>\n",
       "      <td>WHITE HANGING HEART T-LIGHT HOLDER</td>\n",
       "      <td>19</td>\n",
       "    </tr>\n",
       "    <tr>\n",
       "      <th>66</th>\n",
       "      <td>60 TEATIME FAIRY CAKE CASES</td>\n",
       "      <td>18</td>\n",
       "    </tr>\n",
       "    <tr>\n",
       "      <th>1385</th>\n",
       "      <td>SET OF 3 CAKE TINS PANTRY DESIGN</td>\n",
       "      <td>16</td>\n",
       "    </tr>\n",
       "    <tr>\n",
       "      <th>1416</th>\n",
       "      <td>SET OF 4 PANTRY JELLY MOULDS</td>\n",
       "      <td>16</td>\n",
       "    </tr>\n",
       "    <tr>\n",
       "      <th>1205</th>\n",
       "      <td>RED RETROSPOT CHARLOTTE BAG</td>\n",
       "      <td>15</td>\n",
       "    </tr>\n",
       "    <tr>\n",
       "      <th>770</th>\n",
       "      <td>JAM MAKING SET PRINTED</td>\n",
       "      <td>15</td>\n",
       "    </tr>\n",
       "    <tr>\n",
       "      <th>108</th>\n",
       "      <td>ASSORTED COLOUR BIRD ORNAMENT</td>\n",
       "      <td>15</td>\n",
       "    </tr>\n",
       "  </tbody>\n",
       "</table>\n",
       "</div>"
      ],
      "text/plain": [
       "                             Description  num_trx\n",
       "793              JUMBO BAG RED RETROSPOT       24\n",
       "1060                       PARTY BUNTING       22\n",
       "1238            REGENCY CAKESTAND 3 TIER       21\n",
       "1724  WHITE HANGING HEART T-LIGHT HOLDER       19\n",
       "66           60 TEATIME FAIRY CAKE CASES       18\n",
       "1385   SET OF 3 CAKE TINS PANTRY DESIGN        16\n",
       "1416        SET OF 4 PANTRY JELLY MOULDS       16\n",
       "1205         RED RETROSPOT CHARLOTTE BAG       15\n",
       "770               JAM MAKING SET PRINTED       15\n",
       "108        ASSORTED COLOUR BIRD ORNAMENT       15"
      ]
     },
     "execution_count": 10,
     "metadata": {},
     "output_type": "execute_result"
    }
   ],
   "source": [
    "# Top 10 products with the most transactions\n",
    "top10_prod = (ecommerce\n",
    "            .groupby('Description') \n",
    "            .agg(num_trx=('InvoiceNo','count'))\n",
    "            .reset_index()\n",
    "            .sort_values('num_trx',ascending=False)\n",
    "            .head(10)\n",
    "            )\n",
    "top10_prod"
   ]
  },
  {
   "cell_type": "code",
   "execution_count": 11,
   "id": "db3d733d",
   "metadata": {},
   "outputs": [
    {
     "data": {
      "text/html": [
       "<div>\n",
       "<style scoped>\n",
       "    .dataframe tbody tr th:only-of-type {\n",
       "        vertical-align: middle;\n",
       "    }\n",
       "\n",
       "    .dataframe tbody tr th {\n",
       "        vertical-align: top;\n",
       "    }\n",
       "\n",
       "    .dataframe thead th {\n",
       "        text-align: right;\n",
       "    }\n",
       "</style>\n",
       "<table border=\"1\" class=\"dataframe\">\n",
       "  <thead>\n",
       "    <tr style=\"text-align: right;\">\n",
       "      <th></th>\n",
       "      <th>Description</th>\n",
       "      <th>num_trx</th>\n",
       "    </tr>\n",
       "  </thead>\n",
       "  <tbody>\n",
       "    <tr>\n",
       "      <th>903</th>\n",
       "      <td>MEASURING TAPE BABUSHKA PINK</td>\n",
       "      <td>1</td>\n",
       "    </tr>\n",
       "    <tr>\n",
       "      <th>584</th>\n",
       "      <td>FRENCH LAUNDRY SIGN BLUE METAL</td>\n",
       "      <td>1</td>\n",
       "    </tr>\n",
       "    <tr>\n",
       "      <th>1289</th>\n",
       "      <td>ROLL WRAP VINTAGE CHRISTMAS</td>\n",
       "      <td>1</td>\n",
       "    </tr>\n",
       "    <tr>\n",
       "      <th>587</th>\n",
       "      <td>FRENCH STYLE STORAGE JAR CAFE</td>\n",
       "      <td>1</td>\n",
       "    </tr>\n",
       "    <tr>\n",
       "      <th>588</th>\n",
       "      <td>FRENCH TOILET SIGN BLUE METAL</td>\n",
       "      <td>1</td>\n",
       "    </tr>\n",
       "    <tr>\n",
       "      <th>1288</th>\n",
       "      <td>ROLL WRAP 50'S RED CHRISTMAS</td>\n",
       "      <td>1</td>\n",
       "    </tr>\n",
       "    <tr>\n",
       "      <th>590</th>\n",
       "      <td>FRIDGE MAGNETS LES ENFANTS ASSORTED</td>\n",
       "      <td>1</td>\n",
       "    </tr>\n",
       "    <tr>\n",
       "      <th>1287</th>\n",
       "      <td>ROLL WRAP 50'S CHRISTMAS</td>\n",
       "      <td>1</td>\n",
       "    </tr>\n",
       "    <tr>\n",
       "      <th>592</th>\n",
       "      <td>FROG CANDLE</td>\n",
       "      <td>1</td>\n",
       "    </tr>\n",
       "    <tr>\n",
       "      <th>593</th>\n",
       "      <td>FRYING PAN PINK POLKADOT</td>\n",
       "      <td>1</td>\n",
       "    </tr>\n",
       "  </tbody>\n",
       "</table>\n",
       "</div>"
      ],
      "text/plain": [
       "                              Description  num_trx\n",
       "903          MEASURING TAPE BABUSHKA PINK        1\n",
       "584        FRENCH LAUNDRY SIGN BLUE METAL        1\n",
       "1289          ROLL WRAP VINTAGE CHRISTMAS        1\n",
       "587        FRENCH STYLE STORAGE JAR CAFE         1\n",
       "588         FRENCH TOILET SIGN BLUE METAL        1\n",
       "1288        ROLL WRAP 50'S RED CHRISTMAS         1\n",
       "590   FRIDGE MAGNETS LES ENFANTS ASSORTED        1\n",
       "1287             ROLL WRAP 50'S CHRISTMAS        1\n",
       "592                           FROG CANDLE        1\n",
       "593              FRYING PAN PINK POLKADOT        1"
      ]
     },
     "execution_count": 11,
     "metadata": {},
     "output_type": "execute_result"
    }
   ],
   "source": [
    "# Top 10 products with the least transactions\n",
    "low10_prod = (ecommerce\n",
    "            .groupby('Description') \n",
    "            .agg(num_trx=('InvoiceNo','count'))\n",
    "            .reset_index()\n",
    "            .sort_values('num_trx',ascending=True)\n",
    "            .head(10)\n",
    "            )\n",
    "low10_prod"
   ]
  },
  {
   "cell_type": "code",
   "execution_count": 12,
   "id": "43e4c1e9",
   "metadata": {},
   "outputs": [
    {
     "data": {
      "text/html": [
       "<div>\n",
       "<style scoped>\n",
       "    .dataframe tbody tr th:only-of-type {\n",
       "        vertical-align: middle;\n",
       "    }\n",
       "\n",
       "    .dataframe tbody tr th {\n",
       "        vertical-align: top;\n",
       "    }\n",
       "\n",
       "    .dataframe thead th {\n",
       "        text-align: right;\n",
       "    }\n",
       "</style>\n",
       "<table border=\"1\" class=\"dataframe\">\n",
       "  <thead>\n",
       "    <tr style=\"text-align: right;\">\n",
       "      <th></th>\n",
       "      <th>Description</th>\n",
       "      <th>num_trx</th>\n",
       "    </tr>\n",
       "  </thead>\n",
       "  <tbody>\n",
       "    <tr>\n",
       "      <th>793</th>\n",
       "      <td>JUMBO BAG RED RETROSPOT</td>\n",
       "      <td>24</td>\n",
       "    </tr>\n",
       "    <tr>\n",
       "      <th>1060</th>\n",
       "      <td>PARTY BUNTING</td>\n",
       "      <td>22</td>\n",
       "    </tr>\n",
       "    <tr>\n",
       "      <th>1238</th>\n",
       "      <td>REGENCY CAKESTAND 3 TIER</td>\n",
       "      <td>21</td>\n",
       "    </tr>\n",
       "    <tr>\n",
       "      <th>1724</th>\n",
       "      <td>WHITE HANGING HEART T-LIGHT HOLDER</td>\n",
       "      <td>19</td>\n",
       "    </tr>\n",
       "    <tr>\n",
       "      <th>66</th>\n",
       "      <td>60 TEATIME FAIRY CAKE CASES</td>\n",
       "      <td>18</td>\n",
       "    </tr>\n",
       "    <tr>\n",
       "      <th>1385</th>\n",
       "      <td>SET OF 3 CAKE TINS PANTRY DESIGN</td>\n",
       "      <td>16</td>\n",
       "    </tr>\n",
       "    <tr>\n",
       "      <th>1416</th>\n",
       "      <td>SET OF 4 PANTRY JELLY MOULDS</td>\n",
       "      <td>16</td>\n",
       "    </tr>\n",
       "    <tr>\n",
       "      <th>1205</th>\n",
       "      <td>RED RETROSPOT CHARLOTTE BAG</td>\n",
       "      <td>15</td>\n",
       "    </tr>\n",
       "    <tr>\n",
       "      <th>770</th>\n",
       "      <td>JAM MAKING SET PRINTED</td>\n",
       "      <td>15</td>\n",
       "    </tr>\n",
       "    <tr>\n",
       "      <th>108</th>\n",
       "      <td>ASSORTED COLOUR BIRD ORNAMENT</td>\n",
       "      <td>15</td>\n",
       "    </tr>\n",
       "  </tbody>\n",
       "</table>\n",
       "</div>"
      ],
      "text/plain": [
       "                             Description  num_trx\n",
       "793              JUMBO BAG RED RETROSPOT       24\n",
       "1060                       PARTY BUNTING       22\n",
       "1238            REGENCY CAKESTAND 3 TIER       21\n",
       "1724  WHITE HANGING HEART T-LIGHT HOLDER       19\n",
       "66           60 TEATIME FAIRY CAKE CASES       18\n",
       "1385   SET OF 3 CAKE TINS PANTRY DESIGN        16\n",
       "1416        SET OF 4 PANTRY JELLY MOULDS       16\n",
       "1205         RED RETROSPOT CHARLOTTE BAG       15\n",
       "770               JAM MAKING SET PRINTED       15\n",
       "108        ASSORTED COLOUR BIRD ORNAMENT       15"
      ]
     },
     "execution_count": 12,
     "metadata": {},
     "output_type": "execute_result"
    }
   ],
   "source": [
    "top10_cust = (ecommerce\n",
    "            .groupby('Description') \n",
    "            .agg(num_trx=('InvoiceNo','count'))\n",
    "            .reset_index()\n",
    "            .sort_values('num_trx',ascending=False)\n",
    "            .head(10)\n",
    "            )\n",
    "top10_prod"
   ]
  },
  {
   "cell_type": "code",
   "execution_count": 13,
   "id": "8fb86dea",
   "metadata": {},
   "outputs": [
    {
     "data": {
      "image/png": "[encoded data removed]",
      "text/plain": [
       "<Figure size 800x600 with 1 Axes>"
      ]
     },
     "metadata": {},
     "output_type": "display_data"
    }
   ],
   "source": [
    "# visualize it\n",
    "plt.figure(figsize=(8,6))\n",
    "sns.barplot(data=top10_prod, x='Description', y='num_trx')\n",
    "plt.xticks(rotation=90)\n",
    "plt.show()"
   ]
  },
  {
   "cell_type": "code",
   "execution_count": 14,
   "id": "af253a92",
   "metadata": {},
   "outputs": [
    {
     "data": {
      "text/html": [
       "<div>\n",
       "<style scoped>\n",
       "    .dataframe tbody tr th:only-of-type {\n",
       "        vertical-align: middle;\n",
       "    }\n",
       "\n",
       "    .dataframe tbody tr th {\n",
       "        vertical-align: top;\n",
       "    }\n",
       "\n",
       "    .dataframe thead th {\n",
       "        text-align: right;\n",
       "    }\n",
       "</style>\n",
       "<table border=\"1\" class=\"dataframe\">\n",
       "  <thead>\n",
       "    <tr style=\"text-align: right;\">\n",
       "      <th></th>\n",
       "      <th>Description</th>\n",
       "      <th>num_trx</th>\n",
       "    </tr>\n",
       "  </thead>\n",
       "  <tbody>\n",
       "    <tr>\n",
       "      <th>903</th>\n",
       "      <td>MEASURING TAPE BABUSHKA PINK</td>\n",
       "      <td>1</td>\n",
       "    </tr>\n",
       "    <tr>\n",
       "      <th>584</th>\n",
       "      <td>FRENCH LAUNDRY SIGN BLUE METAL</td>\n",
       "      <td>1</td>\n",
       "    </tr>\n",
       "    <tr>\n",
       "      <th>1289</th>\n",
       "      <td>ROLL WRAP VINTAGE CHRISTMAS</td>\n",
       "      <td>1</td>\n",
       "    </tr>\n",
       "    <tr>\n",
       "      <th>587</th>\n",
       "      <td>FRENCH STYLE STORAGE JAR CAFE</td>\n",
       "      <td>1</td>\n",
       "    </tr>\n",
       "    <tr>\n",
       "      <th>588</th>\n",
       "      <td>FRENCH TOILET SIGN BLUE METAL</td>\n",
       "      <td>1</td>\n",
       "    </tr>\n",
       "    <tr>\n",
       "      <th>1288</th>\n",
       "      <td>ROLL WRAP 50'S RED CHRISTMAS</td>\n",
       "      <td>1</td>\n",
       "    </tr>\n",
       "    <tr>\n",
       "      <th>590</th>\n",
       "      <td>FRIDGE MAGNETS LES ENFANTS ASSORTED</td>\n",
       "      <td>1</td>\n",
       "    </tr>\n",
       "    <tr>\n",
       "      <th>1287</th>\n",
       "      <td>ROLL WRAP 50'S CHRISTMAS</td>\n",
       "      <td>1</td>\n",
       "    </tr>\n",
       "    <tr>\n",
       "      <th>592</th>\n",
       "      <td>FROG CANDLE</td>\n",
       "      <td>1</td>\n",
       "    </tr>\n",
       "    <tr>\n",
       "      <th>593</th>\n",
       "      <td>FRYING PAN PINK POLKADOT</td>\n",
       "      <td>1</td>\n",
       "    </tr>\n",
       "  </tbody>\n",
       "</table>\n",
       "</div>"
      ],
      "text/plain": [
       "                              Description  num_trx\n",
       "903          MEASURING TAPE BABUSHKA PINK        1\n",
       "584        FRENCH LAUNDRY SIGN BLUE METAL        1\n",
       "1289          ROLL WRAP VINTAGE CHRISTMAS        1\n",
       "587        FRENCH STYLE STORAGE JAR CAFE         1\n",
       "588         FRENCH TOILET SIGN BLUE METAL        1\n",
       "1288        ROLL WRAP 50'S RED CHRISTMAS         1\n",
       "590   FRIDGE MAGNETS LES ENFANTS ASSORTED        1\n",
       "1287             ROLL WRAP 50'S CHRISTMAS        1\n",
       "592                           FROG CANDLE        1\n",
       "593              FRYING PAN PINK POLKADOT        1"
      ]
     },
     "execution_count": 14,
     "metadata": {},
     "output_type": "execute_result"
    }
   ],
   "source": [
    "# Low 10 products in terms of transactions\n",
    "low10_prod = (ecommerce\n",
    "            .groupby('Description')\n",
    "            .agg(num_trx=('InvoiceNo','count'))\n",
    "            .reset_index()\n",
    "            .sort_values('num_trx',ascending=True)\n",
    "            .head(10)\n",
    "            )\n",
    "low10_prod"
   ]
  },
  {
   "cell_type": "markdown",
   "id": "e759ccfb",
   "metadata": {},
   "source": [
    "Not so interesting to visualize, because all have single transaction."
   ]
  },
  {
   "cell_type": "markdown",
   "id": "de242b83",
   "metadata": {},
   "source": [
    "### Top 10 Customers in money spend\n",
    "We need to create a new column `total_price = Quantity * UnitPrice`. Then sum it based on group-by CustomerID."
   ]
  },
  {
   "cell_type": "code",
   "execution_count": 15,
   "id": "8562321e",
   "metadata": {},
   "outputs": [
    {
     "data": {
      "text/html": [
       "<div>\n",
       "<style scoped>\n",
       "    .dataframe tbody tr th:only-of-type {\n",
       "        vertical-align: middle;\n",
       "    }\n",
       "\n",
       "    .dataframe tbody tr th {\n",
       "        vertical-align: top;\n",
       "    }\n",
       "\n",
       "    .dataframe thead th {\n",
       "        text-align: right;\n",
       "    }\n",
       "</style>\n",
       "<table border=\"1\" class=\"dataframe\">\n",
       "  <thead>\n",
       "    <tr style=\"text-align: right;\">\n",
       "      <th></th>\n",
       "      <th>InvoiceNo</th>\n",
       "      <th>StockCode</th>\n",
       "      <th>Description</th>\n",
       "      <th>Quantity</th>\n",
       "      <th>InvoiceDate</th>\n",
       "      <th>UnitPrice</th>\n",
       "      <th>CustomerID</th>\n",
       "      <th>Country</th>\n",
       "    </tr>\n",
       "  </thead>\n",
       "  <tbody>\n",
       "    <tr>\n",
       "      <th>0</th>\n",
       "      <td>554697</td>\n",
       "      <td>21166</td>\n",
       "      <td>COOK WITH WINE METAL SIGN</td>\n",
       "      <td>1</td>\n",
       "      <td>2011-05-25 17:31:00</td>\n",
       "      <td>2.08</td>\n",
       "      <td>14584</td>\n",
       "      <td>United Kingdom</td>\n",
       "    </tr>\n",
       "    <tr>\n",
       "      <th>1</th>\n",
       "      <td>561038</td>\n",
       "      <td>82482</td>\n",
       "      <td>WOODEN PICTURE FRAME WHITE FINISH</td>\n",
       "      <td>2</td>\n",
       "      <td>2011-07-24 11:58:00</td>\n",
       "      <td>2.55</td>\n",
       "      <td>17114</td>\n",
       "      <td>United Kingdom</td>\n",
       "    </tr>\n",
       "    <tr>\n",
       "      <th>2</th>\n",
       "      <td>560552</td>\n",
       "      <td>23192</td>\n",
       "      <td>BUNDLE OF 3 ALPHABET EXERCISE BOOKS</td>\n",
       "      <td>1</td>\n",
       "      <td>2011-07-19 12:54:00</td>\n",
       "      <td>1.65</td>\n",
       "      <td>15311</td>\n",
       "      <td>United Kingdom</td>\n",
       "    </tr>\n",
       "    <tr>\n",
       "      <th>3</th>\n",
       "      <td>559884</td>\n",
       "      <td>85183B</td>\n",
       "      <td>CHARLIE &amp; LOLA WASTEPAPER BIN FLORA</td>\n",
       "      <td>12</td>\n",
       "      <td>2011-07-13 11:34:00</td>\n",
       "      <td>1.25</td>\n",
       "      <td>16843</td>\n",
       "      <td>United Kingdom</td>\n",
       "    </tr>\n",
       "    <tr>\n",
       "      <th>4</th>\n",
       "      <td>544450</td>\n",
       "      <td>21789</td>\n",
       "      <td>KIDS RAIN MAC PINK</td>\n",
       "      <td>3</td>\n",
       "      <td>2011-02-20 12:23:00</td>\n",
       "      <td>0.85</td>\n",
       "      <td>17811</td>\n",
       "      <td>United Kingdom</td>\n",
       "    </tr>\n",
       "  </tbody>\n",
       "</table>\n",
       "</div>"
      ],
      "text/plain": [
       "   InvoiceNo StockCode                          Description  Quantity  \\\n",
       "0     554697     21166           COOK WITH WINE METAL SIGN          1   \n",
       "1     561038     82482    WOODEN PICTURE FRAME WHITE FINISH         2   \n",
       "2     560552     23192  BUNDLE OF 3 ALPHABET EXERCISE BOOKS         1   \n",
       "3     559884    85183B  CHARLIE & LOLA WASTEPAPER BIN FLORA        12   \n",
       "4     544450     21789                   KIDS RAIN MAC PINK         3   \n",
       "\n",
       "          InvoiceDate  UnitPrice  CustomerID         Country  \n",
       "0 2011-05-25 17:31:00       2.08       14584  United Kingdom  \n",
       "1 2011-07-24 11:58:00       2.55       17114  United Kingdom  \n",
       "2 2011-07-19 12:54:00       1.65       15311  United Kingdom  \n",
       "3 2011-07-13 11:34:00       1.25       16843  United Kingdom  \n",
       "4 2011-02-20 12:23:00       0.85       17811  United Kingdom  "
      ]
     },
     "execution_count": 15,
     "metadata": {},
     "output_type": "execute_result"
    }
   ],
   "source": [
    "ecommerce.head()"
   ]
  },
  {
   "cell_type": "code",
   "execution_count": 16,
   "id": "a461c57c",
   "metadata": {},
   "outputs": [
    {
     "data": {
      "text/html": [
       "<div>\n",
       "<style scoped>\n",
       "    .dataframe tbody tr th:only-of-type {\n",
       "        vertical-align: middle;\n",
       "    }\n",
       "\n",
       "    .dataframe tbody tr th {\n",
       "        vertical-align: top;\n",
       "    }\n",
       "\n",
       "    .dataframe thead th {\n",
       "        text-align: right;\n",
       "    }\n",
       "</style>\n",
       "<table border=\"1\" class=\"dataframe\">\n",
       "  <thead>\n",
       "    <tr style=\"text-align: right;\">\n",
       "      <th></th>\n",
       "      <th>CustomerID</th>\n",
       "      <th>total_spend</th>\n",
       "    </tr>\n",
       "  </thead>\n",
       "  <tbody>\n",
       "    <tr>\n",
       "      <th>758</th>\n",
       "      <td>14646</td>\n",
       "      <td>3569.53</td>\n",
       "    </tr>\n",
       "    <tr>\n",
       "      <th>1655</th>\n",
       "      <td>17450</td>\n",
       "      <td>3521.44</td>\n",
       "    </tr>\n",
       "    <tr>\n",
       "      <th>1119</th>\n",
       "      <td>15769</td>\n",
       "      <td>3509.00</td>\n",
       "    </tr>\n",
       "    <tr>\n",
       "      <th>1879</th>\n",
       "      <td>18102</td>\n",
       "      <td>2940.42</td>\n",
       "    </tr>\n",
       "    <tr>\n",
       "      <th>843</th>\n",
       "      <td>14911</td>\n",
       "      <td>2149.65</td>\n",
       "    </tr>\n",
       "    <tr>\n",
       "      <th>1195</th>\n",
       "      <td>16000</td>\n",
       "      <td>2046.00</td>\n",
       "    </tr>\n",
       "    <tr>\n",
       "      <th>565</th>\n",
       "      <td>14088</td>\n",
       "      <td>1900.38</td>\n",
       "    </tr>\n",
       "    <tr>\n",
       "      <th>1263</th>\n",
       "      <td>16210</td>\n",
       "      <td>1728.00</td>\n",
       "    </tr>\n",
       "    <tr>\n",
       "      <th>1214</th>\n",
       "      <td>16029</td>\n",
       "      <td>1472.40</td>\n",
       "    </tr>\n",
       "    <tr>\n",
       "      <th>1672</th>\n",
       "      <td>17511</td>\n",
       "      <td>1334.64</td>\n",
       "    </tr>\n",
       "  </tbody>\n",
       "</table>\n",
       "</div>"
      ],
      "text/plain": [
       "      CustomerID  total_spend\n",
       "758        14646      3569.53\n",
       "1655       17450      3521.44\n",
       "1119       15769      3509.00\n",
       "1879       18102      2940.42\n",
       "843        14911      2149.65\n",
       "1195       16000      2046.00\n",
       "565        14088      1900.38\n",
       "1263       16210      1728.00\n",
       "1214       16029      1472.40\n",
       "1672       17511      1334.64"
      ]
     },
     "execution_count": 16,
     "metadata": {},
     "output_type": "execute_result"
    }
   ],
   "source": [
    "# create total_price column\n",
    "ecommerce['total_price'] = ecommerce['Quantity'] * ecommerce['UnitPrice']\n",
    "\n",
    "# group by aggregation\n",
    "top10_cust = (ecommerce\n",
    "            .groupby('CustomerID')\n",
    "            .agg(total_spend=('total_price','sum'))\n",
    "            .reset_index()\n",
    "            .sort_values('total_spend',ascending=False)\n",
    "            .head(10)\n",
    "            )\n",
    "\n",
    "top10_cust"
   ]
  },
  {
   "cell_type": "code",
   "execution_count": 17,
   "id": "a8179e32",
   "metadata": {},
   "outputs": [
    {
     "data": {
      "text/plain": [
       "(array([0, 1, 2, 3, 4, 5, 6, 7, 8, 9]),\n",
       " [Text(0, 0, '14646'),\n",
       "  Text(1, 0, '17450'),\n",
       "  Text(2, 0, '15769'),\n",
       "  Text(3, 0, '18102'),\n",
       "  Text(4, 0, '14911'),\n",
       "  Text(5, 0, '16000'),\n",
       "  Text(6, 0, '14088'),\n",
       "  Text(7, 0, '16210'),\n",
       "  Text(8, 0, '16029'),\n",
       "  Text(9, 0, '17511')])"
      ]
     },
     "execution_count": 17,
     "metadata": {},
     "output_type": "execute_result"
    },
    {
     "data": {
      "image/png": "[encoded data removed]",
      "text/plain": [
       "<Figure size 800x600 with 1 Axes>"
      ]
     },
     "metadata": {},
     "output_type": "display_data"
    }
   ],
   "source": [
    "# visualize it\n",
    "plt.figure(figsize=(8,6))\n",
    "top10_cust['CustomerID'] = top10_cust['CustomerID'].astype(str)\n",
    "sns.barplot(data=top10_cust, x='CustomerID', y='total_spend')\n",
    "plt.xticks(rotation=90)"
   ]
  },
  {
   "cell_type": "markdown",
   "id": "fcd8c5ba",
   "metadata": {},
   "source": [
    "### Distinct Product Sold and their price distribution\n",
    "We need to create a sub-dataframe containing `Description` and `UnitPrice` columns only, and ensure no duplication."
   ]
  },
  {
   "cell_type": "code",
   "execution_count": 18,
   "id": "6ec4c017",
   "metadata": {},
   "outputs": [
    {
     "data": {
      "text/plain": [
       "1807"
      ]
     },
     "execution_count": 18,
     "metadata": {},
     "output_type": "execute_result"
    }
   ],
   "source": [
    "ecommerce['Description'].nunique()"
   ]
  },
  {
   "cell_type": "code",
   "execution_count": 19,
   "id": "cd838ac4",
   "metadata": {},
   "outputs": [
    {
     "data": {
      "text/html": [
       "<div>\n",
       "<style scoped>\n",
       "    .dataframe tbody tr th:only-of-type {\n",
       "        vertical-align: middle;\n",
       "    }\n",
       "\n",
       "    .dataframe tbody tr th {\n",
       "        vertical-align: top;\n",
       "    }\n",
       "\n",
       "    .dataframe thead th {\n",
       "        text-align: right;\n",
       "    }\n",
       "</style>\n",
       "<table border=\"1\" class=\"dataframe\">\n",
       "  <thead>\n",
       "    <tr style=\"text-align: right;\">\n",
       "      <th></th>\n",
       "      <th>Description</th>\n",
       "      <th>UnitPrice</th>\n",
       "    </tr>\n",
       "  </thead>\n",
       "  <tbody>\n",
       "    <tr>\n",
       "      <th>0</th>\n",
       "      <td>COOK WITH WINE METAL SIGN</td>\n",
       "      <td>2.08</td>\n",
       "    </tr>\n",
       "    <tr>\n",
       "      <th>1</th>\n",
       "      <td>WOODEN PICTURE FRAME WHITE FINISH</td>\n",
       "      <td>2.55</td>\n",
       "    </tr>\n",
       "    <tr>\n",
       "      <th>2</th>\n",
       "      <td>BUNDLE OF 3 ALPHABET EXERCISE BOOKS</td>\n",
       "      <td>1.65</td>\n",
       "    </tr>\n",
       "    <tr>\n",
       "      <th>3</th>\n",
       "      <td>CHARLIE &amp; LOLA WASTEPAPER BIN FLORA</td>\n",
       "      <td>1.25</td>\n",
       "    </tr>\n",
       "    <tr>\n",
       "      <th>4</th>\n",
       "      <td>KIDS RAIN MAC PINK</td>\n",
       "      <td>0.85</td>\n",
       "    </tr>\n",
       "  </tbody>\n",
       "</table>\n",
       "</div>"
      ],
      "text/plain": [
       "                           Description  UnitPrice\n",
       "0           COOK WITH WINE METAL SIGN        2.08\n",
       "1    WOODEN PICTURE FRAME WHITE FINISH       2.55\n",
       "2  BUNDLE OF 3 ALPHABET EXERCISE BOOKS       1.65\n",
       "3  CHARLIE & LOLA WASTEPAPER BIN FLORA       1.25\n",
       "4                   KIDS RAIN MAC PINK       0.85"
      ]
     },
     "execution_count": 19,
     "metadata": {},
     "output_type": "execute_result"
    }
   ],
   "source": [
    "#dataset yang baru yang ada level product\n",
    "#tidak ada duplikasi pproduct\n",
    "prod = (ecommerce[['Description','UnitPrice']]\n",
    "        .drop_duplicates(subset='Description',ignore_index=True))\n",
    "prod.head()"
   ]
  },
  {
   "cell_type": "code",
   "execution_count": 20,
   "id": "2126be5c",
   "metadata": {},
   "outputs": [
    {
     "data": {
      "text/plain": [
       "1807"
      ]
     },
     "execution_count": 20,
     "metadata": {},
     "output_type": "execute_result"
    }
   ],
   "source": [
    "# number of products\n",
    "prod.shape[0]"
   ]
  },
  {
   "cell_type": "code",
   "execution_count": 21,
   "id": "1b88703c",
   "metadata": {},
   "outputs": [
    {
     "data": {
      "text/plain": [
       "1807"
      ]
     },
     "execution_count": 21,
     "metadata": {},
     "output_type": "execute_result"
    }
   ],
   "source": [
    "prod['Description'].nunique()"
   ]
  },
  {
   "cell_type": "code",
   "execution_count": 22,
   "id": "7746f33e",
   "metadata": {},
   "outputs": [
    {
     "data": {
      "text/plain": [
       "<Axes: xlabel='UnitPrice', ylabel='Count'>"
      ]
     },
     "execution_count": 22,
     "metadata": {},
     "output_type": "execute_result"
    },
    {
     "data": {
      "image/png": "[encoded data removed]",
      "text/plain": [
       "<Figure size 1000x600 with 1 Axes>"
      ]
     },
     "metadata": {},
     "output_type": "display_data"
    }
   ],
   "source": [
    "# price distribution\n",
    "plt.figure(figsize=(10,6))\n",
    "sns.histplot(data=prod, x='UnitPrice', kde = True)"
   ]
  },
  {
   "cell_type": "code",
   "execution_count": 23,
   "id": "6c1412bd",
   "metadata": {},
   "outputs": [
    {
     "data": {
      "text/html": [
       "<div>\n",
       "<style scoped>\n",
       "    .dataframe tbody tr th:only-of-type {\n",
       "        vertical-align: middle;\n",
       "    }\n",
       "\n",
       "    .dataframe tbody tr th {\n",
       "        vertical-align: top;\n",
       "    }\n",
       "\n",
       "    .dataframe thead th {\n",
       "        text-align: right;\n",
       "    }\n",
       "</style>\n",
       "<table border=\"1\" class=\"dataframe\">\n",
       "  <thead>\n",
       "    <tr style=\"text-align: right;\">\n",
       "      <th></th>\n",
       "      <th>UnitPrice</th>\n",
       "    </tr>\n",
       "  </thead>\n",
       "  <tbody>\n",
       "    <tr>\n",
       "      <th>count</th>\n",
       "      <td>1807.000000</td>\n",
       "    </tr>\n",
       "    <tr>\n",
       "      <th>mean</th>\n",
       "      <td>3.050742</td>\n",
       "    </tr>\n",
       "    <tr>\n",
       "      <th>std</th>\n",
       "      <td>6.201232</td>\n",
       "    </tr>\n",
       "    <tr>\n",
       "      <th>min</th>\n",
       "      <td>0.040000</td>\n",
       "    </tr>\n",
       "    <tr>\n",
       "      <th>25%</th>\n",
       "      <td>0.850000</td>\n",
       "    </tr>\n",
       "    <tr>\n",
       "      <th>50%</th>\n",
       "      <td>1.650000</td>\n",
       "    </tr>\n",
       "    <tr>\n",
       "      <th>75%</th>\n",
       "      <td>3.750000</td>\n",
       "    </tr>\n",
       "    <tr>\n",
       "      <th>max</th>\n",
       "      <td>145.000000</td>\n",
       "    </tr>\n",
       "  </tbody>\n",
       "</table>\n",
       "</div>"
      ],
      "text/plain": [
       "         UnitPrice\n",
       "count  1807.000000\n",
       "mean      3.050742\n",
       "std       6.201232\n",
       "min       0.040000\n",
       "25%       0.850000\n",
       "50%       1.650000\n",
       "75%       3.750000\n",
       "max     145.000000"
      ]
     },
     "execution_count": 23,
     "metadata": {},
     "output_type": "execute_result"
    }
   ],
   "source": [
    "prod.describe()"
   ]
  },
  {
   "cell_type": "markdown",
   "id": "dc361e76",
   "metadata": {},
   "source": [
    "### Customer Countries and which one is the best spender overall\n",
    "We need to group by `Country` and `CustomerID`, then take the sum of `total_price`. After that, we draw boxplot side by side countries."
   ]
  },
  {
   "cell_type": "code",
   "execution_count": 24,
   "id": "78ba1e52",
   "metadata": {},
   "outputs": [
    {
     "data": {
      "text/html": [
       "<div>\n",
       "<style scoped>\n",
       "    .dataframe tbody tr th:only-of-type {\n",
       "        vertical-align: middle;\n",
       "    }\n",
       "\n",
       "    .dataframe tbody tr th {\n",
       "        vertical-align: top;\n",
       "    }\n",
       "\n",
       "    .dataframe thead th {\n",
       "        text-align: right;\n",
       "    }\n",
       "</style>\n",
       "<table border=\"1\" class=\"dataframe\">\n",
       "  <thead>\n",
       "    <tr style=\"text-align: right;\">\n",
       "      <th></th>\n",
       "      <th>Country</th>\n",
       "      <th>CustomerID</th>\n",
       "      <th>total_spend</th>\n",
       "    </tr>\n",
       "  </thead>\n",
       "  <tbody>\n",
       "    <tr>\n",
       "      <th>0</th>\n",
       "      <td>Australia</td>\n",
       "      <td>12388</td>\n",
       "      <td>17.70</td>\n",
       "    </tr>\n",
       "    <tr>\n",
       "      <th>1</th>\n",
       "      <td>Australia</td>\n",
       "      <td>12393</td>\n",
       "      <td>16.60</td>\n",
       "    </tr>\n",
       "    <tr>\n",
       "      <th>2</th>\n",
       "      <td>Australia</td>\n",
       "      <td>12415</td>\n",
       "      <td>850.95</td>\n",
       "    </tr>\n",
       "    <tr>\n",
       "      <th>3</th>\n",
       "      <td>Australia</td>\n",
       "      <td>12431</td>\n",
       "      <td>51.75</td>\n",
       "    </tr>\n",
       "    <tr>\n",
       "      <th>4</th>\n",
       "      <td>Austria</td>\n",
       "      <td>12358</td>\n",
       "      <td>71.40</td>\n",
       "    </tr>\n",
       "  </tbody>\n",
       "</table>\n",
       "</div>"
      ],
      "text/plain": [
       "     Country  CustomerID  total_spend\n",
       "0  Australia       12388        17.70\n",
       "1  Australia       12393        16.60\n",
       "2  Australia       12415       850.95\n",
       "3  Australia       12431        51.75\n",
       "4    Austria       12358        71.40"
      ]
     },
     "execution_count": 24,
     "metadata": {},
     "output_type": "execute_result"
    }
   ],
   "source": [
    "country_user = (ecommerce\n",
    "                .groupby(['Country','CustomerID'])\n",
    "                .agg(total_spend=('total_price','sum'))\n",
    "                .reset_index())\n",
    "country_user.head()"
   ]
  },
  {
   "cell_type": "code",
   "execution_count": 25,
   "id": "0f4c0b48",
   "metadata": {},
   "outputs": [
    {
     "data": {
      "text/plain": [
       "31"
      ]
     },
     "execution_count": 25,
     "metadata": {},
     "output_type": "execute_result"
    }
   ],
   "source": [
    "country_user['Country'].nunique()"
   ]
  },
  {
   "cell_type": "code",
   "execution_count": 26,
   "id": "b457de3a",
   "metadata": {},
   "outputs": [
    {
     "data": {
      "text/plain": [
       "Country\n",
       "United Kingdom          1735\n",
       "Germany                   49\n",
       "France                    43\n",
       "Switzerland               12\n",
       "Spain                     12\n",
       "Belgium                   11\n",
       "Portugal                   8\n",
       "Sweden                     5\n",
       "Norway                     5\n",
       "Finland                    5\n",
       "Australia                  4\n",
       "Austria                    4\n",
       "Italy                      4\n",
       "Greece                     4\n",
       "Channel Islands            4\n",
       "Cyprus                     4\n",
       "Denmark                    3\n",
       "Netherlands                3\n",
       "EIRE                       3\n",
       "Unspecified                3\n",
       "Israel                     2\n",
       "Japan                      2\n",
       "Malta                      1\n",
       "Poland                     1\n",
       "RSA                        1\n",
       "Singapore                  1\n",
       "Lebanon                    1\n",
       "Canada                     1\n",
       "United Arab Emirates       1\n",
       "Brazil                     1\n",
       "Iceland                    1\n",
       "Name: count, dtype: int64"
      ]
     },
     "execution_count": 26,
     "metadata": {},
     "output_type": "execute_result"
    }
   ],
   "source": [
    "country_user.Country.value_counts()"
   ]
  },
  {
   "cell_type": "code",
   "execution_count": 27,
   "id": "59a4d5f9",
   "metadata": {},
   "outputs": [
    {
     "data": {
      "text/html": [
       "<div>\n",
       "<style scoped>\n",
       "    .dataframe tbody tr th:only-of-type {\n",
       "        vertical-align: middle;\n",
       "    }\n",
       "\n",
       "    .dataframe tbody tr th {\n",
       "        vertical-align: top;\n",
       "    }\n",
       "\n",
       "    .dataframe thead th {\n",
       "        text-align: right;\n",
       "    }\n",
       "</style>\n",
       "<table border=\"1\" class=\"dataframe\">\n",
       "  <thead>\n",
       "    <tr style=\"text-align: right;\">\n",
       "      <th></th>\n",
       "      <th>Country</th>\n",
       "      <th>CustomerID</th>\n",
       "      <th>total_spend</th>\n",
       "    </tr>\n",
       "  </thead>\n",
       "  <tbody>\n",
       "    <tr>\n",
       "      <th>40</th>\n",
       "      <td>France</td>\n",
       "      <td>12490</td>\n",
       "      <td>148.40</td>\n",
       "    </tr>\n",
       "    <tr>\n",
       "      <th>41</th>\n",
       "      <td>France</td>\n",
       "      <td>12491</td>\n",
       "      <td>26.85</td>\n",
       "    </tr>\n",
       "    <tr>\n",
       "      <th>42</th>\n",
       "      <td>France</td>\n",
       "      <td>12494</td>\n",
       "      <td>49.20</td>\n",
       "    </tr>\n",
       "    <tr>\n",
       "      <th>43</th>\n",
       "      <td>France</td>\n",
       "      <td>12508</td>\n",
       "      <td>9.60</td>\n",
       "    </tr>\n",
       "    <tr>\n",
       "      <th>44</th>\n",
       "      <td>France</td>\n",
       "      <td>12509</td>\n",
       "      <td>8.50</td>\n",
       "    </tr>\n",
       "    <tr>\n",
       "      <th>...</th>\n",
       "      <td>...</td>\n",
       "      <td>...</td>\n",
       "      <td>...</td>\n",
       "    </tr>\n",
       "    <tr>\n",
       "      <th>1926</th>\n",
       "      <td>United Kingdom</td>\n",
       "      <td>18272</td>\n",
       "      <td>44.10</td>\n",
       "    </tr>\n",
       "    <tr>\n",
       "      <th>1927</th>\n",
       "      <td>United Kingdom</td>\n",
       "      <td>18276</td>\n",
       "      <td>7.90</td>\n",
       "    </tr>\n",
       "    <tr>\n",
       "      <th>1928</th>\n",
       "      <td>United Kingdom</td>\n",
       "      <td>18278</td>\n",
       "      <td>15.00</td>\n",
       "    </tr>\n",
       "    <tr>\n",
       "      <th>1929</th>\n",
       "      <td>United Kingdom</td>\n",
       "      <td>18280</td>\n",
       "      <td>17.85</td>\n",
       "    </tr>\n",
       "    <tr>\n",
       "      <th>1930</th>\n",
       "      <td>United Kingdom</td>\n",
       "      <td>18283</td>\n",
       "      <td>14.00</td>\n",
       "    </tr>\n",
       "  </tbody>\n",
       "</table>\n",
       "<p>1851 rows × 3 columns</p>\n",
       "</div>"
      ],
      "text/plain": [
       "             Country  CustomerID  total_spend\n",
       "40            France       12490       148.40\n",
       "41            France       12491        26.85\n",
       "42            France       12494        49.20\n",
       "43            France       12508         9.60\n",
       "44            France       12509         8.50\n",
       "...              ...         ...          ...\n",
       "1926  United Kingdom       18272        44.10\n",
       "1927  United Kingdom       18276         7.90\n",
       "1928  United Kingdom       18278        15.00\n",
       "1929  United Kingdom       18280        17.85\n",
       "1930  United Kingdom       18283        14.00\n",
       "\n",
       "[1851 rows x 3 columns]"
      ]
     },
     "execution_count": 27,
     "metadata": {},
     "output_type": "execute_result"
    }
   ],
   "source": [
    "# filter to top 5 contries (most CustomerID) only\n",
    "# using isin technique\n",
    "top5_countries = ['United Kingdom','Germany','France','Switzerland','Spain']\n",
    "country_user = country_user[country_user['Country'].isin(top5_countries)]\n",
    "country_user"
   ]
  },
  {
   "cell_type": "code",
   "execution_count": 28,
   "id": "e3d13c8f",
   "metadata": {},
   "outputs": [
    {
     "data": {
      "text/plain": [
       "<Axes: xlabel='Country', ylabel='total_spend'>"
      ]
     },
     "execution_count": 28,
     "metadata": {},
     "output_type": "execute_result"
    },
    {
     "data": {
      "image/png": "[encoded data removed]",
      "text/plain": [
       "<Figure size 640x480 with 1 Axes>"
      ]
     },
     "metadata": {},
     "output_type": "display_data"
    }
   ],
   "source": [
    "sns.boxplot(data=country_user,\n",
    "            x='Country',\n",
    "            y='total_spend')"
   ]
  },
  {
   "cell_type": "code",
   "execution_count": 29,
   "id": "e0117760",
   "metadata": {},
   "outputs": [],
   "source": [
    "# Clip max spend at 500 so that we can easily compare the boxplots\n",
    "country_user['total_spend'] = country_user['total_spend'].clip(upper=500)"
   ]
  },
  {
   "cell_type": "code",
   "execution_count": 30,
   "id": "96fbf238",
   "metadata": {},
   "outputs": [
    {
     "data": {
      "text/plain": [
       "<Axes: xlabel='Country', ylabel='total_spend'>"
      ]
     },
     "execution_count": 30,
     "metadata": {},
     "output_type": "execute_result"
    },
    {
     "data": {
      "image/png": "[encoded data removed]",
      "text/plain": [
       "<Figure size 1200x600 with 1 Axes>"
      ]
     },
     "metadata": {},
     "output_type": "display_data"
    }
   ],
   "source": [
    "plt.figure(figsize=(12,6))\n",
    "sns.boxplot(data=country_user,\n",
    "            x='Country',\n",
    "            y='total_spend')"
   ]
  },
  {
   "cell_type": "markdown",
   "id": "6bccf8a7",
   "metadata": {},
   "source": [
    "### Monthly time series of num buyers and total omzet"
   ]
  },
  {
   "cell_type": "code",
   "execution_count": 31,
   "id": "dc8b6b7f",
   "metadata": {},
   "outputs": [
    {
     "data": {
      "text/html": [
       "<div>\n",
       "<style scoped>\n",
       "    .dataframe tbody tr th:only-of-type {\n",
       "        vertical-align: middle;\n",
       "    }\n",
       "\n",
       "    .dataframe tbody tr th {\n",
       "        vertical-align: top;\n",
       "    }\n",
       "\n",
       "    .dataframe thead th {\n",
       "        text-align: right;\n",
       "    }\n",
       "</style>\n",
       "<table border=\"1\" class=\"dataframe\">\n",
       "  <thead>\n",
       "    <tr style=\"text-align: right;\">\n",
       "      <th></th>\n",
       "      <th>InvoiceNo</th>\n",
       "      <th>StockCode</th>\n",
       "      <th>Description</th>\n",
       "      <th>Quantity</th>\n",
       "      <th>InvoiceDate</th>\n",
       "      <th>UnitPrice</th>\n",
       "      <th>CustomerID</th>\n",
       "      <th>Country</th>\n",
       "      <th>total_price</th>\n",
       "      <th>InvoiceMonth</th>\n",
       "    </tr>\n",
       "  </thead>\n",
       "  <tbody>\n",
       "    <tr>\n",
       "      <th>0</th>\n",
       "      <td>554697</td>\n",
       "      <td>21166</td>\n",
       "      <td>COOK WITH WINE METAL SIGN</td>\n",
       "      <td>1</td>\n",
       "      <td>2011-05-25 17:31:00</td>\n",
       "      <td>2.08</td>\n",
       "      <td>14584</td>\n",
       "      <td>United Kingdom</td>\n",
       "      <td>2.08</td>\n",
       "      <td>2011-05</td>\n",
       "    </tr>\n",
       "    <tr>\n",
       "      <th>1</th>\n",
       "      <td>561038</td>\n",
       "      <td>82482</td>\n",
       "      <td>WOODEN PICTURE FRAME WHITE FINISH</td>\n",
       "      <td>2</td>\n",
       "      <td>2011-07-24 11:58:00</td>\n",
       "      <td>2.55</td>\n",
       "      <td>17114</td>\n",
       "      <td>United Kingdom</td>\n",
       "      <td>5.10</td>\n",
       "      <td>2011-07</td>\n",
       "    </tr>\n",
       "    <tr>\n",
       "      <th>2</th>\n",
       "      <td>560552</td>\n",
       "      <td>23192</td>\n",
       "      <td>BUNDLE OF 3 ALPHABET EXERCISE BOOKS</td>\n",
       "      <td>1</td>\n",
       "      <td>2011-07-19 12:54:00</td>\n",
       "      <td>1.65</td>\n",
       "      <td>15311</td>\n",
       "      <td>United Kingdom</td>\n",
       "      <td>1.65</td>\n",
       "      <td>2011-07</td>\n",
       "    </tr>\n",
       "    <tr>\n",
       "      <th>3</th>\n",
       "      <td>559884</td>\n",
       "      <td>85183B</td>\n",
       "      <td>CHARLIE &amp; LOLA WASTEPAPER BIN FLORA</td>\n",
       "      <td>12</td>\n",
       "      <td>2011-07-13 11:34:00</td>\n",
       "      <td>1.25</td>\n",
       "      <td>16843</td>\n",
       "      <td>United Kingdom</td>\n",
       "      <td>15.00</td>\n",
       "      <td>2011-07</td>\n",
       "    </tr>\n",
       "    <tr>\n",
       "      <th>4</th>\n",
       "      <td>544450</td>\n",
       "      <td>21789</td>\n",
       "      <td>KIDS RAIN MAC PINK</td>\n",
       "      <td>3</td>\n",
       "      <td>2011-02-20 12:23:00</td>\n",
       "      <td>0.85</td>\n",
       "      <td>17811</td>\n",
       "      <td>United Kingdom</td>\n",
       "      <td>2.55</td>\n",
       "      <td>2011-02</td>\n",
       "    </tr>\n",
       "  </tbody>\n",
       "</table>\n",
       "</div>"
      ],
      "text/plain": [
       "   InvoiceNo StockCode                          Description  Quantity  \\\n",
       "0     554697     21166           COOK WITH WINE METAL SIGN          1   \n",
       "1     561038     82482    WOODEN PICTURE FRAME WHITE FINISH         2   \n",
       "2     560552     23192  BUNDLE OF 3 ALPHABET EXERCISE BOOKS         1   \n",
       "3     559884    85183B  CHARLIE & LOLA WASTEPAPER BIN FLORA        12   \n",
       "4     544450     21789                   KIDS RAIN MAC PINK         3   \n",
       "\n",
       "          InvoiceDate  UnitPrice  CustomerID         Country  total_price  \\\n",
       "0 2011-05-25 17:31:00       2.08       14584  United Kingdom         2.08   \n",
       "1 2011-07-24 11:58:00       2.55       17114  United Kingdom         5.10   \n",
       "2 2011-07-19 12:54:00       1.65       15311  United Kingdom         1.65   \n",
       "3 2011-07-13 11:34:00       1.25       16843  United Kingdom        15.00   \n",
       "4 2011-02-20 12:23:00       0.85       17811  United Kingdom         2.55   \n",
       "\n",
       "  InvoiceMonth  \n",
       "0      2011-05  \n",
       "1      2011-07  \n",
       "2      2011-07  \n",
       "3      2011-07  \n",
       "4      2011-02  "
      ]
     },
     "execution_count": 31,
     "metadata": {},
     "output_type": "execute_result"
    }
   ],
   "source": [
    "# derive InvoiceMonth column\n",
    "ecommerce['InvoiceMonth'] = ecommerce['InvoiceDate'].dt.to_period('M')\n",
    "ecommerce.head()"
   ]
  },
  {
   "cell_type": "code",
   "execution_count": 32,
   "id": "6bc6f034",
   "metadata": {},
   "outputs": [
    {
     "data": {
      "text/html": [
       "<div>\n",
       "<style scoped>\n",
       "    .dataframe tbody tr th:only-of-type {\n",
       "        vertical-align: middle;\n",
       "    }\n",
       "\n",
       "    .dataframe tbody tr th {\n",
       "        vertical-align: top;\n",
       "    }\n",
       "\n",
       "    .dataframe thead th {\n",
       "        text-align: right;\n",
       "    }\n",
       "</style>\n",
       "<table border=\"1\" class=\"dataframe\">\n",
       "  <thead>\n",
       "    <tr style=\"text-align: right;\">\n",
       "      <th></th>\n",
       "      <th>InvoiceMonth</th>\n",
       "      <th>num_buyer</th>\n",
       "      <th>total_omzet</th>\n",
       "    </tr>\n",
       "  </thead>\n",
       "  <tbody>\n",
       "    <tr>\n",
       "      <th>0</th>\n",
       "      <td>2010-12</td>\n",
       "      <td>221</td>\n",
       "      <td>10810.55</td>\n",
       "    </tr>\n",
       "    <tr>\n",
       "      <th>1</th>\n",
       "      <td>2011-01</td>\n",
       "      <td>209</td>\n",
       "      <td>6247.52</td>\n",
       "    </tr>\n",
       "    <tr>\n",
       "      <th>2</th>\n",
       "      <td>2011-02</td>\n",
       "      <td>197</td>\n",
       "      <td>6152.46</td>\n",
       "    </tr>\n",
       "    <tr>\n",
       "      <th>3</th>\n",
       "      <td>2011-03</td>\n",
       "      <td>247</td>\n",
       "      <td>7162.64</td>\n",
       "    </tr>\n",
       "    <tr>\n",
       "      <th>4</th>\n",
       "      <td>2011-04</td>\n",
       "      <td>211</td>\n",
       "      <td>6357.63</td>\n",
       "    </tr>\n",
       "    <tr>\n",
       "      <th>5</th>\n",
       "      <td>2011-05</td>\n",
       "      <td>254</td>\n",
       "      <td>6987.24</td>\n",
       "    </tr>\n",
       "    <tr>\n",
       "      <th>6</th>\n",
       "      <td>2011-06</td>\n",
       "      <td>224</td>\n",
       "      <td>7203.93</td>\n",
       "    </tr>\n",
       "    <tr>\n",
       "      <th>7</th>\n",
       "      <td>2011-07</td>\n",
       "      <td>231</td>\n",
       "      <td>7569.27</td>\n",
       "    </tr>\n",
       "    <tr>\n",
       "      <th>8</th>\n",
       "      <td>2011-08</td>\n",
       "      <td>237</td>\n",
       "      <td>9904.91</td>\n",
       "    </tr>\n",
       "    <tr>\n",
       "      <th>9</th>\n",
       "      <td>2011-09</td>\n",
       "      <td>328</td>\n",
       "      <td>9761.11</td>\n",
       "    </tr>\n",
       "    <tr>\n",
       "      <th>10</th>\n",
       "      <td>2011-10</td>\n",
       "      <td>374</td>\n",
       "      <td>10177.38</td>\n",
       "    </tr>\n",
       "    <tr>\n",
       "      <th>11</th>\n",
       "      <td>2011-11</td>\n",
       "      <td>500</td>\n",
       "      <td>17948.84</td>\n",
       "    </tr>\n",
       "    <tr>\n",
       "      <th>12</th>\n",
       "      <td>2011-12</td>\n",
       "      <td>144</td>\n",
       "      <td>5496.43</td>\n",
       "    </tr>\n",
       "  </tbody>\n",
       "</table>\n",
       "</div>"
      ],
      "text/plain": [
       "   InvoiceMonth  num_buyer  total_omzet\n",
       "0       2010-12        221     10810.55\n",
       "1       2011-01        209      6247.52\n",
       "2       2011-02        197      6152.46\n",
       "3       2011-03        247      7162.64\n",
       "4       2011-04        211      6357.63\n",
       "5       2011-05        254      6987.24\n",
       "6       2011-06        224      7203.93\n",
       "7       2011-07        231      7569.27\n",
       "8       2011-08        237      9904.91\n",
       "9       2011-09        328      9761.11\n",
       "10      2011-10        374     10177.38\n",
       "11      2011-11        500     17948.84\n",
       "12      2011-12        144      5496.43"
      ]
     },
     "execution_count": 32,
     "metadata": {},
     "output_type": "execute_result"
    }
   ],
   "source": [
    "# monthly_data\n",
    "# derive number of buyers / month\n",
    "# derive total omzet /month\n",
    "monthly_data = (ecommerce\n",
    "                .groupby('InvoiceMonth')\n",
    "                .agg(num_buyer=('CustomerID','nunique'),\n",
    "                     total_omzet=('total_price','sum'))\n",
    "                .reset_index())\n",
    "\n",
    "monthly_data['InvoiceMonth'] = monthly_data['InvoiceMonth'].astype(str) \n",
    "monthly_data"
   ]
  },
  {
   "cell_type": "markdown",
   "id": "7c085fb7",
   "metadata": {},
   "source": [
    "# Interpretation\n",
    "Observe peak is in Nov, why is it?"
   ]
  },
  {
   "cell_type": "code",
   "execution_count": 33,
   "id": "4c8bbcf4",
   "metadata": {},
   "outputs": [
    {
     "data": {
      "text/plain": [
       "([0, 1, 2, 3, 4, 5, 6, 7, 8, 9, 10, 11, 12],\n",
       " [Text(0, 0, '2010-12'),\n",
       "  Text(1, 0, '2011-01'),\n",
       "  Text(2, 0, '2011-02'),\n",
       "  Text(3, 0, '2011-03'),\n",
       "  Text(4, 0, '2011-04'),\n",
       "  Text(5, 0, '2011-05'),\n",
       "  Text(6, 0, '2011-06'),\n",
       "  Text(7, 0, '2011-07'),\n",
       "  Text(8, 0, '2011-08'),\n",
       "  Text(9, 0, '2011-09'),\n",
       "  Text(10, 0, '2011-10'),\n",
       "  Text(11, 0, '2011-11'),\n",
       "  Text(12, 0, '2011-12')])"
      ]
     },
     "execution_count": 33,
     "metadata": {},
     "output_type": "execute_result"
    },
    {
     "data": {
      "image/png": "[encoded data removed]",
      "text/plain": [
       "<Figure size 1200x700 with 1 Axes>"
      ]
     },
     "metadata": {},
     "output_type": "display_data"
    }
   ],
   "source": [
    "# num buyer progression\n",
    "plt.figure(figsize=(12,7))\n",
    "sns.lineplot(data=monthly_data,\n",
    "             x='InvoiceMonth',\n",
    "             y='num_buyer')\n",
    "plt.xticks(rotation=45)"
   ]
  },
  {
   "cell_type": "code",
   "execution_count": 35,
   "id": "d20e1a09",
   "metadata": {},
   "outputs": [
    {
     "data": {
      "text/plain": [
       "([0, 1, 2, 3, 4, 5, 6, 7, 8, 9, 10, 11, 12],\n",
       " [Text(0, 0, '2010-12'),\n",
       "  Text(1, 0, '2011-01'),\n",
       "  Text(2, 0, '2011-02'),\n",
       "  Text(3, 0, '2011-03'),\n",
       "  Text(4, 0, '2011-04'),\n",
       "  Text(5, 0, '2011-05'),\n",
       "  Text(6, 0, '2011-06'),\n",
       "  Text(7, 0, '2011-07'),\n",
       "  Text(8, 0, '2011-08'),\n",
       "  Text(9, 0, '2011-09'),\n",
       "  Text(10, 0, '2011-10'),\n",
       "  Text(11, 0, '2011-11'),\n",
       "  Text(12, 0, '2011-12')])"
      ]
     },
     "execution_count": 35,
     "metadata": {},
     "output_type": "execute_result"
    },
    {
     "data": {
      "image/png": "[encoded data removed]",
      "text/plain": [
       "<Figure size 1200x700 with 1 Axes>"
      ]
     },
     "metadata": {},
     "output_type": "display_data"
    }
   ],
   "source": [
    "# omzet progression\n",
    "plt.figure(figsize=(12,7))\n",
    "sns.lineplot(data=monthly_data,\n",
    "             x='InvoiceMonth',\n",
    "             y='total_omzet',\n",
    "             color='red')\n",
    "plt.xticks(rotation=45)"
   ]
  },
  {
   "cell_type": "code",
   "execution_count": null,
   "id": "611c3853",
   "metadata": {},
   "outputs": [],
   "source": []
  }
 ],
 "metadata": {
  "kernelspec": {
   "display_name": "Python 3 (ipykernel)",
   "language": "python",
   "name": "python3"
  },
  "language_info": {
   "codemirror_mode": {
    "name": "ipython",
    "version": 3
   },
   "file_extension": ".py",
   "mimetype": "text/x-python",
   "name": "python",
   "nbconvert_exporter": "python",
   "pygments_lexer": "ipython3",
   "version": "3.11.5"
  }
 },
 "nbformat": 4,
 "nbformat_minor": 5
}
